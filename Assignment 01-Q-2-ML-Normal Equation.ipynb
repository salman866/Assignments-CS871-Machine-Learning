{
 "cells": [
  {
   "cell_type": "markdown",
   "id": "718fe6da",
   "metadata": {},
   "source": [
    "# Assignment No 01 for CS 871 (Machine Learning)"
   ]
  },
  {
   "cell_type": "markdown",
   "id": "2ff5c6db",
   "metadata": {},
   "source": [
    "Submitted by: Muhammad Salman Akhtar Registration No: 398895"
   ]
  },
  {
   "cell_type": "markdown",
   "id": "d552476b",
   "metadata": {},
   "source": [
    "## Question No 2"
   ]
  },
  {
   "cell_type": "markdown",
   "id": "063485ec",
   "metadata": {},
   "source": [
    "# Normal Eqaution"
   ]
  },
  {
   "cell_type": "code",
   "execution_count": 49,
   "id": "2ff0bd55",
   "metadata": {},
   "outputs": [],
   "source": [
    "# Import the requisite modules\n",
    "import numpy as np\n",
    "import matplotlib.pyplot as plt\n",
    "%matplotlib inline\n",
    "\n",
    "def CalculateHypothesis(X,theta):\n",
    "    YPredicted = np.dot(X,theta)\n",
    "    return YPredicted\n",
    "\n",
    "def CalculateParamsNormalEq(X,Y):\n",
    "    XTranspose = np.transpose(X)\n",
    "    prod1 = np.dot(XTranspose,X)\n",
    "    inv = np.linalg.pinv(prod1)\n",
    "    prod2 = np.dot(inv,XTranspose)\n",
    "    theta = np.dot(prod2,Y)\n",
    "    return theta"
   ]
  },
  {
   "cell_type": "code",
   "execution_count": 50,
   "id": "11b95492",
   "metadata": {},
   "outputs": [],
   "source": [
    "# Data set formulation\n",
    "X = np.array([[1,0.211,21.336],[1,0.218,19.812],[1,0.224,19.20],[1,0.267,21.946],[1,0.272,24.689],[1,0.274,25.298],\n",
    "              [1,0.279,20.117],[1,0.279,22.860],[1,0.282,24.384],[1,0.284,22.860],[1,0.287,24.079],[1,0.290,23.165],\n",
    "              [1,0.290,23.165],[1,0.297,21.031],[1,0.305,22.860],[1,0.328,22.555],[1,0.328,25.908],[1,0.338,26.213],\n",
    "              [1,0.348,21.641],[1,0.351,19.507],[1,0.356,23.774],[1,0.361,24.384],[1,0.368,22.555],[1,0.406,21.946],\n",
    "              [1,0.414,23.470],[1,0.439,24.689],[1,0.444,24.994],[1,0.455,24.384],[1,0.457,24.384],[1,0.457,24.384],\n",
    "              [1,0.523,26.518]])\n",
    "Y = np.array([[0.292],[0.292],[0.289],[0.464],[0.532],[0.558],[0.442],[0.515],[0.640],[0.564],[0.685],\n",
    "             [0.595],[0.606],[0.603],[0.541],[0.629],[0.957],[0.776],[0.728],[0.705],[0.977],[0.898],\n",
    "             [1.028],[1.085],[1.206],[1.569],[1.577],[1.651],[1.458],[1.444],[2.180]])"
   ]
  },
  {
   "cell_type": "code",
   "execution_count": 51,
   "id": "0298083f",
   "metadata": {},
   "outputs": [
    {
     "name": "stdout",
     "output_type": "stream",
     "text": [
      "theta0: [-1.64154149]\n",
      "theta1: [5.25286061]\n",
      "theta2: [0.03143809]\n"
     ]
    }
   ],
   "source": [
    "# Parameter calculation through Normal Equation\n",
    "theta = CalculateParamsNormalEq(X,Y)\n",
    "\n",
    "for i in range(len(theta)):\n",
    "    print(\"theta\" + str(i) + \": \" + str(theta[i]))\n"
   ]
  },
  {
   "cell_type": "code",
   "execution_count": 52,
   "id": "37e5433f",
   "metadata": {},
   "outputs": [
    {
     "name": "stdout",
     "output_type": "stream",
     "text": [
      "Predicted Prices are: \n",
      "Predicted value against observation [ 0.65 28.5 ] is [2.66880349]\n",
      "Predicted value against observation [ 0.68 29.1 ] is [2.84525216]\n"
     ]
    }
   ],
   "source": [
    "XTest = np.array([[1,0.65,28.5],[1,0.68,29.1]])\n",
    "\n",
    "YPredicted = CalculateHypothesis(XTest,theta)\n",
    "print(\"Predicted Prices are: \")\n",
    "for i in range(len(YPredicted)):\n",
    "    print(\"Predicted value against observation \"  + str (XTest[i,1:]) + \" is \" + str(YPredicted[i]))"
   ]
  },
  {
   "cell_type": "code",
   "execution_count": null,
   "id": "3630e9fc",
   "metadata": {},
   "outputs": [],
   "source": []
  }
 ],
 "metadata": {
  "kernelspec": {
   "display_name": "Python 3 (ipykernel)",
   "language": "python",
   "name": "python3"
  },
  "language_info": {
   "codemirror_mode": {
    "name": "ipython",
    "version": 3
   },
   "file_extension": ".py",
   "mimetype": "text/x-python",
   "name": "python",
   "nbconvert_exporter": "python",
   "pygments_lexer": "ipython3",
   "version": "3.9.7"
  }
 },
 "nbformat": 4,
 "nbformat_minor": 5
}
