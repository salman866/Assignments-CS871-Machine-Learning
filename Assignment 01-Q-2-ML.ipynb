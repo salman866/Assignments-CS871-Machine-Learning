{
 "cells": [
  {
   "cell_type": "markdown",
   "id": "718fe6da",
   "metadata": {},
   "source": [
    "# Assignment No 01 for CS 871 (Machine Learning)"
   ]
  },
  {
   "cell_type": "markdown",
   "id": "2ff5c6db",
   "metadata": {},
   "source": [
    "Submitted by: Muhammad Salman Akhtar Registration No: 398895"
   ]
  },
  {
   "cell_type": "markdown",
   "id": "d552476b",
   "metadata": {},
   "source": [
    "## Question No 2"
   ]
  },
  {
   "cell_type": "markdown",
   "id": "8912b56f",
   "metadata": {},
   "source": [
    "# Gradient Descent Algorithm"
   ]
  },
  {
   "cell_type": "code",
   "execution_count": 106,
   "id": "2ff0bd55",
   "metadata": {},
   "outputs": [],
   "source": [
    "# Import the requisite modules\n",
    "import numpy as np\n",
    "from sklearn.preprocessing import StandardScaler\n",
    "import matplotlib.pyplot as plt\n",
    "%matplotlib inline\n",
    "\n",
    "def GetScale(X):\n",
    "    scale = StandardScaler()\n",
    "    scaledX = scale.fit_transform(X)\n",
    "    scaledX[:,0] = 1.0\n",
    "    return scale, scaledX \n",
    "\n",
    "def CalculateHypothesis(X,theta):\n",
    "    YPredicted = np.dot(X,theta)\n",
    "    return YPredicted\n",
    "def CalculateCostFunction(X,Y,YPredicted):\n",
    "    cost = 1/(len(X))*np.sum(np.square(YPredicted - Y))\n",
    "    cost = cost/2\n",
    "    return cost\n",
    "def CalculateDerivativesofCostFunction(X,Y,YPredicted):\n",
    "    deltaTheta = np.zeros(theta.shape)\n",
    "    for i in range(len(deltaTheta)):\n",
    "        diffPredict = YPredicted-Y\n",
    "        prodX = np.multiply(diffPredict,X[:,i].reshape(len(X),1))\n",
    "        deltaTheta[i] = 1/(len(X))*np.sum(prodX)\n",
    "    return deltaTheta\n",
    "def UpdateParameters(theta, deltaTheta, alpha):\n",
    "    tempTheta = theta - alpha*deltaTheta\n",
    "    theta = tempTheta\n",
    "    return theta\n",
    "def CalculateGradientDescent(X,Y,theta,alpha,iterations):\n",
    "    cost = []\n",
    "    for i in range(iterations):\n",
    "        YPredicted = CalculateHypothesis(X,theta)\n",
    "        cost.append(CalculateCostFunction(X,Y,YPredicted))\n",
    "        deltaTheta = CalculateDerivativesofCostFunction(X,Y,YPredicted)\n",
    "        theta = UpdateParameters(theta, deltaTheta, alpha)\n",
    "        if i%200==0:\n",
    "            print(\"Cost after \" + str(i) + \" iterations is: \" + str(cost[i]))\n",
    "    return cost,theta"
   ]
  },
  {
   "cell_type": "code",
   "execution_count": 107,
   "id": "11b95492",
   "metadata": {},
   "outputs": [],
   "source": [
    "# Data set formulation\n",
    "X = np.array([[1,0.211,21.336],[1,0.218,19.812],[1,0.224,19.20],[1,0.267,21.946],[1,0.272,24.689],[1,0.274,25.298],\n",
    "              [1,0.279,20.117],[1,0.279,22.860],[1,0.282,24.384],[1,0.284,22.860],[1,0.287,24.079],[1,0.290,23.165],\n",
    "              [1,0.290,23.165],[1,0.297,21.031],[1,0.305,22.860],[1,0.328,22.555],[1,0.328,25.908],[1,0.338,26.213],\n",
    "              [1,0.348,21.641],[1,0.351,19.507],[1,0.356,23.774],[1,0.361,24.384],[1,0.368,22.555],[1,0.406,21.946],\n",
    "              [1,0.414,23.470],[1,0.439,24.689],[1,0.444,24.994],[1,0.455,24.384],[1,0.457,24.384],[1,0.457,24.384],\n",
    "              [1,0.523,26.518]])\n",
    "Y = np.array([[0.292],[0.292],[0.289],[0.464],[0.532],[0.558],[0.442],[0.515],[0.640],[0.564],[0.685],\n",
    "             [0.595],[0.606],[0.603],[0.541],[0.629],[0.957],[0.776],[0.728],[0.705],[0.977],[0.898],\n",
    "             [1.028],[1.085],[1.206],[1.569],[1.577],[1.651],[1.458],[1.444],[2.180]])"
   ]
  },
  {
   "cell_type": "code",
   "execution_count": 108,
   "id": "0298083f",
   "metadata": {},
   "outputs": [
    {
     "name": "stdout",
     "output_type": "stream",
     "text": [
      "Cost after 0 iterations is: 0.4697844838709677\n",
      "Cost after 200 iterations is: 0.014382916420711551\n",
      "Cost after 400 iterations is: 0.005918325214688496\n",
      "Cost after 600 iterations is: 0.005533516847460229\n",
      "Cost after 800 iterations is: 0.0054922713770507005\n",
      "Cost after 1000 iterations is: 0.005486537576035011\n",
      "theta0: [0.85435021]\n",
      "theta1: [0.4100708]\n",
      "theta2: [0.06149285]\n"
     ]
    },
    {
     "data": {
      "text/plain": [
       "<function matplotlib.pyplot.show(close=None, block=None)>"
      ]
     },
     "execution_count": 108,
     "metadata": {},
     "output_type": "execute_result"
    },
    {
     "data": {
      "image/png": "[encoded data removed]",
      "text/plain": [
       "<Figure size 432x288 with 1 Axes>"
      ]
     },
     "metadata": {
      "needs_background": "light"
     },
     "output_type": "display_data"
    }
   ],
   "source": [
    "# Parameter estimation through Gradient Descent\n",
    "theta = np.zeros((X.shape[1],1))\n",
    "alpha = 0.01\n",
    "iterations = 1000\n",
    "scale , X = GetScale(X)\n",
    "# print(X)\n",
    "cost,theta = CalculateGradientDescent(X,Y,theta,alpha,iterations)\n",
    "print(\"Cost after \" + str(iterations) + \" iterations is: \" + str(cost[iterations-1]))\n",
    "for i in range(len(theta)):\n",
    "    print(\"theta\" + str(i) + \": \" + str(theta[i]))\n",
    "\n",
    "plt.plot(cost)\n",
    "plt.title(\"Cost Function vs iterations\")\n",
    "plt.xlabel(\"No of iterations\")\n",
    "plt.ylabel(\"Value of Cost Function\")\n",
    "plt.show"
   ]
  },
  {
   "cell_type": "code",
   "execution_count": 109,
   "id": "37e5433f",
   "metadata": {},
   "outputs": [
    {
     "name": "stdout",
     "output_type": "stream",
     "text": [
      "Predicted Prices are: \n",
      "Predicted value against observation [ 0.65 28.5 ] is [2.66704511]\n",
      "Predicted value against observation [ 0.68 29.1 ] is [2.84339563]\n"
     ]
    }
   ],
   "source": [
    "XTest = np.array([[1,0.65,28.5],[1,0.68,29.1]])\n",
    "scaledX = scale.transform(XTest)\n",
    "scaledX[:,0] = 1.0\n",
    "YPredicted = CalculateHypothesis(scaledX,theta)\n",
    "print(\"Predicted Prices are: \")\n",
    "for i in range(len(YPredicted)):\n",
    "    print(\"Predicted value against observation \"  + str (XTest[i,1:]) + \" is \" + str(YPredicted[i]))"
   ]
  },
  {
   "cell_type": "code",
   "execution_count": null,
   "id": "3725b048",
   "metadata": {},
   "outputs": [],
   "source": []
  }
 ],
 "metadata": {
  "kernelspec": {
   "display_name": "Python 3 (ipykernel)",
   "language": "python",
   "name": "python3"
  },
  "language_info": {
   "codemirror_mode": {
    "name": "ipython",
    "version": 3
   },
   "file_extension": ".py",
   "mimetype": "text/x-python",
   "name": "python",
   "nbconvert_exporter": "python",
   "pygments_lexer": "ipython3",
   "version": "3.9.7"
  }
 },
 "nbformat": 4,
 "nbformat_minor": 5
}
