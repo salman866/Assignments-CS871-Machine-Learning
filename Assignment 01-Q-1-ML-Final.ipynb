{
 "cells": [
  {
   "cell_type": "markdown",
   "id": "718fe6da",
   "metadata": {},
   "source": [
    "# Assignment No 01 for CS 871 (Machine Learning)"
   ]
  },
  {
   "cell_type": "markdown",
   "id": "2ff5c6db",
   "metadata": {},
   "source": [
    "Submitted by: Muhammad Salman Akhtar Registration No: 398895"
   ]
  },
  {
   "cell_type": "markdown",
   "id": "d552476b",
   "metadata": {},
   "source": [
    "## Question No 01"
   ]
  },
  {
   "cell_type": "code",
   "execution_count": 72,
   "id": "2ff0bd55",
   "metadata": {},
   "outputs": [],
   "source": [
    "# Import the requisite modules\n",
    "import numpy as np\n",
    "import matplotlib.pyplot as plt\n",
    "from sklearn.preprocessing import StandardScaler\n",
    "%matplotlib inline\n",
    "\n",
    "def GetScale(X):\n",
    "    scale = StandardScaler()\n",
    "    scaledX = scale.fit_transform(X)\n",
    "    scaledX[:,0] = 1.0\n",
    "    return scale, scaledX\n",
    "\n",
    "def CalculateHypothesis(X,theta):\n",
    "    YPredicted = np.dot(X,theta)\n",
    "    return YPredicted\n",
    "def CalculateCostFunction(X,Y,YPredicted):\n",
    "    cost = 1/(len(X))*np.sum(np.square(YPredicted - Y))\n",
    "    cost = cost/2\n",
    "    return cost\n",
    "def CalculateDerivativesofCostFunction(X,Y,YPredicted):\n",
    "    deltaTheta = np.zeros(theta.shape)\n",
    "    for i in range(len(deltaTheta)):\n",
    "        diffPredict = YPredicted-Y\n",
    "        prodX = np.multiply(diffPredict,X[:,i].reshape(len(X),1))\n",
    "        deltaTheta[i] = 1/(len(X))*np.sum(prodX)\n",
    "    return deltaTheta\n",
    "def UpdateParameters(theta, deltaTheta, alpha):\n",
    "    tempTheta = theta - alpha*deltaTheta\n",
    "    theta = tempTheta\n",
    "    return theta\n",
    "def CalculateGradientDescent(X,Y,theta,alpha,iterations):\n",
    "    cost = []\n",
    "    for i in range(iterations):\n",
    "        YPredicted = CalculateHypothesis(X,theta)\n",
    "        cost.append(CalculateCostFunction(X,Y,YPredicted))\n",
    "        deltaTheta = CalculateDerivativesofCostFunction(X,Y,YPredicted)\n",
    "        theta = UpdateParameters(theta, deltaTheta, alpha)\n",
    "        if i%100==0:\n",
    "            print(\"Cost after \" + str(i) + \" iterations is: \" + str(cost[i]))\n",
    "    return cost,theta"
   ]
  },
  {
   "cell_type": "code",
   "execution_count": 73,
   "id": "11b95492",
   "metadata": {},
   "outputs": [],
   "source": [
    "# Data set formulation\n",
    "X = np.array([[1,1989],[1,1990],[1,1991],[1,1992],[1,1993],[1,1994],[1,1995],[1,1996],[1,1997],[1,1998],[1,1999]])\n",
    "Y = np.array([[86.4],[89.8],[92.8],[96.0],[99.6],[103.1],[106.3],[109.5],[113.3],[120.0],[129.5]])"
   ]
  },
  {
   "cell_type": "code",
   "execution_count": 74,
   "id": "0298083f",
   "metadata": {},
   "outputs": [
    {
     "name": "stdout",
     "output_type": "stream",
     "text": [
      "Cost after 0 iterations is: 5509.258636363636\n",
      "Cost after 100 iterations is: 740.3390903304517\n",
      "Cost after 200 iterations is: 101.40080012914672\n",
      "Cost after 300 iterations is: 15.796055753673716\n",
      "Cost after 400 iterations is: 4.32675993594889\n",
      "Cost after 500 iterations is: 2.790107411440425\n",
      "Cost after 600 iterations is: 2.584227205837084\n",
      "Cost after 700 iterations is: 2.556643442830658\n",
      "Cost after 800 iterations is: 2.552947779231698\n",
      "Cost after 900 iterations is: 2.5524526354243284\n",
      "Cost after 1000 iterations is: 2.552386504601732\n",
      "theta0: [104.20459207]\n",
      "theta1: [12.40421729]\n"
     ]
    },
    {
     "data": {
      "text/plain": [
       "<function matplotlib.pyplot.show(close=None, block=None)>"
      ]
     },
     "execution_count": 74,
     "metadata": {},
     "output_type": "execute_result"
    },
    {
     "data": {
      "image/png": "[encoded data removed]",
      "text/plain": [
       "<Figure size 432x288 with 1 Axes>"
      ]
     },
     "metadata": {
      "needs_background": "light"
     },
     "output_type": "display_data"
    }
   ],
   "source": [
    "# Part a\n",
    "# Parameter estimation through Gradient Descent\n",
    "theta = np.zeros((X.shape[1],1))\n",
    "alpha = 0.01\n",
    "iterations = 1000\n",
    "scale , X = GetScale(X)\n",
    "cost,theta = CalculateGradientDescent(X,Y,theta,alpha,iterations)\n",
    "print(\"Cost after \" + str(iterations) + \" iterations is: \" + str(cost[iterations-1]))\n",
    "for i in range(len(theta)):\n",
    "    print(\"theta\" + str(i) + \": \" + str(theta[i]))\n",
    "\n",
    "plt.plot(cost)\n",
    "plt.title(\"Cost Function vs iterations\")\n",
    "plt.xlabel(\"No of iterations\")\n",
    "plt.ylabel(\"Value of Cost Function\")\n",
    "plt.show"
   ]
  },
  {
   "cell_type": "code",
   "execution_count": 76,
   "id": "37e5433f",
   "metadata": {},
   "outputs": [
    {
     "name": "stdout",
     "output_type": "stream",
     "text": [
      "Predicted Prices are: \n",
      "Predicted value against observation [2010] is [166.96551885]\n",
      "Predicted value against observation [2020] is [206.19109809]\n",
      "Predicted value against observation [2025] is [225.80388771]\n"
     ]
    }
   ],
   "source": [
    "# Part b\n",
    "# Predicting Prices\n",
    "XTest = np.array([[1, 2010],[1, 2020],[1, 2025]])\n",
    "scaledX = scale.transform(XTest)\n",
    "scaledX[:,0] = 1.0\n",
    "YPredicted = CalculateHypothesis(scaledX,theta)\n",
    "print(\"Predicted Prices are: \")\n",
    "for i in range(len(YPredicted)):\n",
    "    print(\"Predicted value against observation \"  + str (XTest[i,1:]) + \" is \" + str(YPredicted[i]))"
   ]
  },
  {
   "cell_type": "code",
   "execution_count": null,
   "id": "c69fcfac",
   "metadata": {},
   "outputs": [],
   "source": []
  }
 ],
 "metadata": {
  "kernelspec": {
   "display_name": "Python 3 (ipykernel)",
   "language": "python",
   "name": "python3"
  },
  "language_info": {
   "codemirror_mode": {
    "name": "ipython",
    "version": 3
   },
   "file_extension": ".py",
   "mimetype": "text/x-python",
   "name": "python",
   "nbconvert_exporter": "python",
   "pygments_lexer": "ipython3",
   "version": "3.9.7"
  }
 },
 "nbformat": 4,
 "nbformat_minor": 5
}
