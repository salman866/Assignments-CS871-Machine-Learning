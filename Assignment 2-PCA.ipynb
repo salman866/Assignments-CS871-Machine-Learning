{
 "cells": [
  {
   "cell_type": "code",
   "execution_count": null,
   "id": "f8225c37",
   "metadata": {},
   "outputs": [],
   "source": [
    "# ! pip install seaborn"
   ]
  },
  {
   "cell_type": "code",
   "execution_count": 41,
   "id": "18702e18",
   "metadata": {},
   "outputs": [],
   "source": [
    "import pandas as pd\n",
    "import numpy as np\n",
    "import seaborn as sns\n",
    "from sklearn import datasets\n",
    "from sklearn.decomposition import PCA\n",
    "from sklearn.preprocessing import StandardScaler\n",
    "import matplotlib.pyplot as plt\n",
    "from matplotlib.colors import cnames\n",
    "from sklearn.cluster import KMeans\n",
    "\n",
    "%matplotlib inline"
   ]
  },
  {
   "cell_type": "code",
   "execution_count": 53,
   "id": "f44d4984",
   "metadata": {},
   "outputs": [],
   "source": [
    "def PlotExplainedVariancePlot(explainedVarianceRatio, cumumlativeExplainedVarianceRatio):\n",
    "    plt.bar(range(0,len(explainedVarianceRatio)), explainedVarianceRatio, alpha=0.5, align='center', label='Individual explained variance ratio')\n",
    "    plt.step(range(0,len(cumumlativeExplainedVarianceRatio)), cumumlativeExplainedVarianceRatio, where='mid',label='Cumulative explained variance')\n",
    "    plt.ylabel('Explained variance ratio')\n",
    "    plt.xlabel('Principal component index')\n",
    "    plt.legend(loc='best')\n",
    "    plt.tight_layout()\n",
    "    plt.show()\n",
    "    \n",
    "def ApplyPCA(X, NoOfPCs=None):\n",
    "    scaler = StandardScaler()\n",
    "    sc = StandardScaler()\n",
    "    sc.fit(X)\n",
    "    XScaled = sc.transform(X)\n",
    "    if (NoOfPCs==None):\n",
    "        pca = PCA().fit(XScaled)\n",
    "        xPCA = PCA().fit_transform(X)\n",
    "    else:\n",
    "        pca = PCA(n_components=NoOfPCs).fit(XScaled)\n",
    "        xPCA = PCA(n_components=NoOfPCs).fit_transform(X)\n",
    "   \n",
    "           \n",
    "    # Get cumulative explained variance for each dimension\n",
    "    pcaExplainedVariance = pca.explained_variance_\n",
    "    pcaExplainedVarianceRatio = pca.explained_variance_ratio_\n",
    "    cumumlativeExplainedVarianceRatio = np.cumsum(pcaExplainedVarianceRatio)\n",
    "    noOfComponents = len(pcaExplainedVariance)\n",
    "    # Get dimensions where var >= 85% \n",
    "    noOfDesiredComponents = np.argmax(cumumlativeExplainedVarianceRatio >= 0.80) + 1\n",
    "    \n",
    "    print(f\"We can reduce from {noOfComponents} to {noOfDesiredComponents} dimensions while retaining 80% of variance.\")    \n",
    "        \n",
    "    return pca, xPCA, pcaExplainedVariance, pcaExplainedVarianceRatio, cumumlativeExplainedVarianceRatio\n",
    "\n",
    "\n",
    "def PCAFeatureCorrelation(X, xPCA, pcaExplainedVarianceRatio, features):\n",
    "\n",
    "    # Get correlation between original features (X) and PCs (xPCA)\n",
    "    dotMatrix = np.dot(X.T, xPCA)\n",
    "    print(dotMatrix.shape)\n",
    "    # Form a dataframe of correlation matrix with columns representing PCs and rows representing features\n",
    "    dfDotMat = pd.DataFrame(dotMatrix)\n",
    "    dfDotMat.columns = [''.join(['PC', f'{i+1}']) for i in range(dotMatrix.shape[1])]\n",
    "    if any(features): dfDotMat.index = features    \n",
    "\n",
    "    # Normalize & Sort\n",
    "    dfDotMatNormalizedAbsolute, dfDotMatNormalizedAbsoluteByVar = NormalizeCorrelatedMatrix(dfDotMat, pcaExplainedVarianceRatio)\n",
    "    \n",
    "    return dfDotMatNormalizedAbsolute, dfDotMatNormalizedAbsoluteByVar\n",
    "\n",
    "\n",
    "def NormalizeCorrelatedMatrix(dfDotMat, pcaExplainedVarianceRatio):\n",
    "\n",
    "    # Normalize and Sort in descending order\n",
    "    dfDotMatNormalized = (dfDotMat.copy()-dfDotMat.mean())/dfDotMat.std()\n",
    "    dfDotMatNormalized = dfDotMatNormalized.sort_values(list(dfDotMatNormalized.columns), ascending=False)\n",
    "    # Reorder in descending order after taking absolute\n",
    "    dfDotMatNormalizedAbsolute = dfDotMatNormalized.copy().abs().set_index(dfDotMatNormalized.index)\n",
    "    dfDotMatNormalizedAbsolute = dfDotMatNormalizedAbsolute.sort_values(by=list(dfDotMatNormalizedAbsolute.columns), ascending=False)   \n",
    "\n",
    "    # Re-normalize by multiplying it with explained variance ratio and sort in descending order\n",
    "    dfDotMatNormalizedAbsoluteByVar = dfDotMatNormalizedAbsolute.copy()*pcaExplainedVarianceRatio\n",
    "    dfDotMatNormalizedAbsoluteByVar = dfDotMatNormalizedAbsoluteByVar.sort_values(by=list(dfDotMatNormalized.columns), ascending=False)\n",
    "    ax_relative = sns.heatmap(dfDotMatNormalizedAbsoluteByVar, cmap=\"Purples\")\n",
    "    ax_relative.set_title(\"|Normalized|*Explained_Variance\")\n",
    "\n",
    "    return dfDotMatNormalizedAbsolute, dfDotMatNormalizedAbsoluteByVar\n",
    "\n",
    "\n",
    "def RankFeaturesPCA(dfDotMatNormalizedAbsoluteByVar):\n",
    "    # dfDotMatNormalizedAbsoluteByVar is a dataframe with shape (no of features, no of PCAs)\n",
    "    # dfDotMatNormalizedAbsoluteByVar is also normalized and multiplied with explained variance ratio\n",
    "    # Ranking is done based on summing each row and sorting in descending order\n",
    "    dfRank = dfDotMatNormalizedAbsoluteByVar.copy().assign(score = dfDotMatNormalizedAbsoluteByVar.sum(axis=1)).sort_values('score', ascending=False)\n",
    "    dfRank['feature'] = dfRank.index\n",
    "    dfRank.index = range(1, len(dfRank)+1)\n",
    "    dfRank.drop(dfDotMatNormalizedAbsoluteByVar.columns, axis=1, inplace=True)\n",
    "    dfRank.index.rename('rank', inplace=True)\n",
    "    return dfRank\n",
    "\n",
    "def GeneratePCAReport(X, features, noOfPCs=None):\n",
    "    # Retrieve the interactive report\n",
    "    pca, xPCA, pcaExplainedVariance, pcaExplainedVarianceRatio, cumumlativeExplainedVarianceRatio = ApplyPCA(X, noOfPCs)\n",
    "    # Plot Explained Variance Graph\n",
    "    PlotExplainedVariancePlot(pcaExplainedVarianceRatio, cumumlativeExplainedVarianceRatio)\n",
    "    # Get feature-PC correlation matrices\n",
    "    dfDotMatNormalizedAbsolute, dfDotMatNormalizedAbsoluteByVar = PCAFeatureCorrelation(X, xPCA, pcaExplainedVarianceRatio, features) \n",
    "    # Get rank for each feature\n",
    "    dfRank = RankFeaturesPCA(dfDotMatNormalizedAbsoluteByVar)\n",
    "    return (pca, xPCA, pcaExplainedVariance, pcaExplainedVarianceRatio, dfDotMatNormalizedAbsolute, dfDotMatNormalizedAbsoluteByVar, dfRank)"
   ]
  },
  {
   "cell_type": "markdown",
   "id": "250e8568",
   "metadata": {},
   "source": [
    "## Run PCA without specifying number of components"
   ]
  },
  {
   "cell_type": "code",
   "execution_count": 55,
   "id": "e8f70a34",
   "metadata": {},
   "outputs": [
    {
     "name": "stdout",
     "output_type": "stream",
     "text": [
      "We can reduce from 8 to 5 dimensions while retaining 80% of variance.\n"
     ]
    },
    {
     "data": {
      "image/png": "[encoded data removed]",
      "text/plain": [
       "<Figure size 432x288 with 1 Axes>"
      ]
     },
     "metadata": {
      "needs_background": "light"
     },
     "output_type": "display_data"
    },
    {
     "name": "stdout",
     "output_type": "stream",
     "text": [
      "(8, 8)\n",
      "Number of components PCA generated: 8\n",
      "----------------Explained variance for each component----------------\n",
      "[2.09711056 1.73346726 1.03097228 0.87667054 0.76333832 0.68351839\n",
      " 0.42036353 0.40498938]\n",
      "----------------Explained variance ratio for each component----------------\n",
      "[0.26179749 0.21640127 0.12870373 0.10944113 0.09529305 0.08532855\n",
      " 0.05247702 0.05055776]\n",
      "----------------Feature Weights for each component----------------\n",
      "[[0.1284321  0.39308257 0.36000261 0.43982428 0.43502617 0.45194134\n",
      "  0.27061144 0.19802707]\n",
      " [0.59378583 0.17402908 0.18389207 0.33196534 0.25078106 0.1009598\n",
      "  0.122069   0.62058853]\n",
      " [0.01308692 0.46792282 0.53549442 0.2376738  0.33670893 0.36186463\n",
      "  0.43318905 0.07524755]\n",
      " [0.08069115 0.40432871 0.05598649 0.03797608 0.34994376 0.05364595\n",
      "  0.8336801  0.0712006 ]\n",
      " [0.47560573 0.46632804 0.32795306 0.48786206 0.34693481 0.25320376\n",
      "  0.11981049 0.10928996]\n",
      " [0.19359817 0.09416176 0.6341159  0.00958944 0.27065061 0.68537218\n",
      "  0.08578409 0.03335717]\n",
      " [0.58879003 0.06015291 0.19211793 0.28221253 0.13200992 0.03536644\n",
      "  0.08609107 0.71208542]\n",
      " [0.11784098 0.45035526 0.01129554 0.5662838  0.54862138 0.34151764\n",
      "  0.00825873 0.21166198]]\n",
      "----------------Normalized Feature Weights for each component----------------\n",
      "                               PC1       PC2       PC3       PC4       PC5  \\\n",
      "Insulin                   0.644414  0.151716  0.073268  0.038510  0.035093   \n",
      "Age                       0.114755  0.004002  0.016573  0.107881  0.214326   \n",
      "Pregnancies               0.113580  0.077936  0.056448  0.033647  0.006027   \n",
      "DiabetesPedigreeFunction  0.111631  0.091671  0.064898  0.018403  0.034602   \n",
      "BMI                       0.101368  0.062633  0.013867  0.037601  0.029229   \n",
      "BloodPressure             0.099782  0.002907  0.292010  0.096603  0.097942   \n",
      "SkinThickness             0.065762  0.128586  0.053722  0.241338  0.035383   \n",
      "Glucose                   0.037537  0.519451  0.120678  0.016104  0.058870   \n",
      "\n",
      "                               PC6       PC7       PC8  \n",
      "Insulin                   0.017466  0.014579  0.017879  \n",
      "Age                       0.015383  0.038357  0.018120  \n",
      "Pregnancies               0.017718  0.128285  0.016968  \n",
      "DiabetesPedigreeFunction  0.018418  0.015706  0.125120  \n",
      "BMI                       0.206325  0.015182  0.018223  \n",
      "BloodPressure             0.036436  0.014964  0.017766  \n",
      "SkinThickness             0.070244  0.014840  0.018205  \n",
      "Glucose                   0.030660  0.014658  0.017959  \n",
      "----------------Rank of each feautre----------------\n",
      "         score                   feature\n",
      "rank                                    \n",
      "1     0.992925                   Insulin\n",
      "2     0.815916                   Glucose\n",
      "3     0.658410             BloodPressure\n",
      "4     0.628080             SkinThickness\n",
      "5     0.529397                       Age\n",
      "6     0.484427                       BMI\n",
      "7     0.480449  DiabetesPedigreeFunction\n",
      "8     0.450609               Pregnancies\n"
     ]
    },
    {
     "data": {
      "image/png": "[encoded data removed]",
      "text/plain": [
       "<Figure size 432x288 with 2 Axes>"
      ]
     },
     "metadata": {
      "needs_background": "light"
     },
     "output_type": "display_data"
    }
   ],
   "source": [
    "df = pd.read_csv('diabetes.csv')\n",
    "train_X = df[[x for x in df.columns if x not in [\"Outcome\"]]]\n",
    "feature_names = ['Pregnancies', 'Glucose', 'BloodPressure', 'SkinThickness', 'Insulin', 'BMI', 'DiabetesPedigreeFunction', 'Age']\n",
    "diabetes_outputs = GeneratePCAReport(X=train_X.values, features=feature_names)\n",
    "print(\"Number of components PCA generated: \" + str(len(diabetes_outputs[2])))\n",
    "print(\"----------------Explained variance for each component----------------\")\n",
    "print(diabetes_outputs[2])\n",
    "print(\"----------------Explained variance ratio for each component----------------\")\n",
    "print(diabetes_outputs[3])\n",
    "print(\"----------------Feature Weights for each component----------------\")\n",
    "print(abs(diabetes_outputs[0].components_))\n",
    "print(\"----------------Normalized Feature Weights for each component----------------\")\n",
    "print(diabetes_outputs[5])\n",
    "print(\"----------------Rank of each feautre----------------\")\n",
    "print(diabetes_outputs[-1])"
   ]
  },
  {
   "cell_type": "markdown",
   "id": "e19affde",
   "metadata": {},
   "source": [
    "## Run PCA for specific components and specific features"
   ]
  },
  {
   "cell_type": "code",
   "execution_count": 56,
   "id": "1495cdca",
   "metadata": {},
   "outputs": [
    {
     "name": "stdout",
     "output_type": "stream",
     "text": [
      "We can reduce from 5 to 4 dimensions while retaining 80% of variance.\n"
     ]
    },
    {
     "data": {
      "image/png": "[encoded data removed]",
      "text/plain": [
       "<Figure size 432x288 with 1 Axes>"
      ]
     },
     "metadata": {
      "needs_background": "light"
     },
     "output_type": "display_data"
    },
    {
     "name": "stdout",
     "output_type": "stream",
     "text": [
      "(5, 5)\n",
      "Number of components PCA generated: 5\n",
      "----------------Explained variance for each component----------------\n",
      "[1.6951386  1.31263711 0.94371281 0.6029669  0.45206349]\n",
      "----------------Explained variance ratio for each component----------------\n",
      "[0.33858628 0.26218559 0.1884968  0.12043636 0.09029497]\n",
      "----------------Feature Weights for each component----------------\n",
      "[[0.4809046  0.39654553 0.48779528 0.57588323 0.20468677]\n",
      " [0.31173133 0.29633575 0.46024533 0.32520534 0.70528322]\n",
      " [0.55603948 0.70631302 0.31930232 0.29935652 0.01933151]\n",
      " [0.41603956 0.46710042 0.37340337 0.11259779 0.67573659]\n",
      " [0.43506956 0.19461724 0.5557391  0.67845958 0.06070628]]\n",
      "----------------Normalized Feature Weights for each component----------------\n",
      "                    PC1       PC2       PC3       PC4       PC5\n",
      "Insulin        0.603096  0.188699  0.116483  0.038608  0.034720\n",
      "Age            0.187508  0.048015  0.048864  0.094918  0.149286\n",
      "BloodPressure  0.171947  0.048679  0.311685  0.078224  0.078746\n",
      "SkinThickness  0.136518  0.168719  0.022522  0.203296  0.015842\n",
      "Glucose        0.107123  0.454111  0.168860  0.008454  0.051661\n",
      "----------------Rank of each feautre----------------\n",
      "         score        feature\n",
      "rank                         \n",
      "1     0.981605        Insulin\n",
      "2     0.790209        Glucose\n",
      "3     0.689281  BloodPressure\n",
      "4     0.546896  SkinThickness\n",
      "5     0.528592            Age\n"
     ]
    },
    {
     "data": {
      "image/png": "[encoded data removed]",
      "text/plain": [
       "<Figure size 432x288 with 2 Axes>"
      ]
     },
     "metadata": {
      "needs_background": "light"
     },
     "output_type": "display_data"
    }
   ],
   "source": [
    "feature_names = ['Glucose', 'BloodPressure', 'SkinThickness', 'Insulin', 'Age']\n",
    "train_X = df[[x for x in df.columns if x not in ['Outcome', 'DiabetesPedigreeFunction', 'BMI', 'Pregnancies']]]\n",
    "diabetes_outputs = GeneratePCAReport(X=train_X.values, features=feature_names, noOfPCs=5)\n",
    "print(\"Number of components PCA generated: \" + str(len(diabetes_outputs[2])))\n",
    "print(\"----------------Explained variance for each component----------------\")\n",
    "print(diabetes_outputs[2])\n",
    "print(\"----------------Explained variance ratio for each component----------------\")\n",
    "print(diabetes_outputs[3])\n",
    "print(\"----------------Feature Weights for each component----------------\")\n",
    "print(abs(diabetes_outputs[0].components_))\n",
    "print(\"----------------Normalized Feature Weights for each component----------------\")\n",
    "print(diabetes_outputs[5])\n",
    "print(\"----------------Rank of each feautre----------------\")\n",
    "print(diabetes_outputs[-1])"
   ]
  },
  {
   "cell_type": "code",
   "execution_count": null,
   "id": "77855030",
   "metadata": {},
   "outputs": [],
   "source": []
  }
 ],
 "metadata": {
  "kernelspec": {
   "display_name": "Python 3 (ipykernel)",
   "language": "python",
   "name": "python3"
  },
  "language_info": {
   "codemirror_mode": {
    "name": "ipython",
    "version": 3
   },
   "file_extension": ".py",
   "mimetype": "text/x-python",
   "name": "python",
   "nbconvert_exporter": "python",
   "pygments_lexer": "ipython3",
   "version": "3.9.11"
  }
 },
 "nbformat": 4,
 "nbformat_minor": 5
}
